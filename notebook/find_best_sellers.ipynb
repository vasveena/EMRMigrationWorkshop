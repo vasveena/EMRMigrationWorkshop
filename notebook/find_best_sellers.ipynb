{
 "cells": [
  {
   "cell_type": "code",
   "execution_count": 1,
   "id": "b98d1e10",
   "metadata": {
    "tags": [
     "parameters"
    ]
   },
   "outputs": [
    {
     "data": {
      "application/vnd.jupyter.widget-view+json": {
       "model_id": "de2d582e717f4698b40aaa2f68a87c69",
       "version_major": 2,
       "version_minor": 0
      },
      "text/plain": [
       "VBox()"
      ]
     },
     "metadata": {},
     "output_type": "display_data"
    },
    {
     "name": "stdout",
     "output_type": "stream",
     "text": [
      "Starting Spark application\n"
     ]
    },
    {
     "data": {
      "text/html": [
       "<table>\n",
       "<tr><th>ID</th><th>YARN Application ID</th><th>Kind</th><th>State</th><th>Spark UI</th><th>Driver log</th><th>Current session?</th></tr><tr><td>6</td><td>application_1637560469042_0032</td><td>pyspark</td><td>idle</td><td><a target=\"_blank\" href=\"http://ip-10-0-0-73.ec2.internal:20888/proxy/application_1637560469042_0032/\" class=\"emr-proxy-link\" emr-resource=\"j-1HCZO7EIKLFQY\n",
       "\" application-id=\"application_1637560469042_0032\">Link</a></td><td><a target=\"_blank\" href=\"http://ip-10-0-0-185.ec2.internal:8042/node/containerlogs/container_1637560469042_0032_01_000001/livy\" >Link</a></td><td>✔</td></tr></table>"
      ],
      "text/plain": [
       "<IPython.core.display.HTML object>"
      ]
     },
     "metadata": {},
     "output_type": "display_data"
    },
    {
     "data": {
      "application/vnd.jupyter.widget-view+json": {
       "model_id": "",
       "version_major": 2,
       "version_minor": 0
      },
      "text/plain": [
       "FloatProgress(value=0.0, bar_style='info', description='Progress:', layout=Layout(height='25px', width='50%'),…"
      ]
     },
     "metadata": {},
     "output_type": "display_data"
    },
    {
     "name": "stdout",
     "output_type": "stream",
     "text": [
      "SparkSession available as 'spark'.\n"
     ]
    },
    {
     "data": {
      "application/vnd.jupyter.widget-view+json": {
       "model_id": "",
       "version_major": 2,
       "version_minor": 0
      },
      "text/plain": [
       "FloatProgress(value=0.0, bar_style='info', description='Progress:', layout=Layout(height='25px', width='50%'),…"
      ]
     },
     "metadata": {},
     "output_type": "display_data"
    }
   ],
   "source": [
    "# Default parameters\n",
    "CATEGORIES = [\"Apparel\", \"Baby\"]\n",
    "FROM_DATE = \"2015-08-28\"\n",
    "TO_DATE = \"2015-08-30\"\n",
    "OUTPUT_LOCATION = \"s3://emr-workshop-197690357257-template/mwaa/query_output/\""
   ]
  },
  {
   "cell_type": "code",
   "execution_count": 2,
   "id": "68ab0c6d",
   "metadata": {},
   "outputs": [
    {
     "data": {
      "application/vnd.jupyter.widget-view+json": {
       "model_id": "2490c0a3d0ef4c67b2ebdcf3b34c7a85",
       "version_major": 2,
       "version_minor": 0
      },
      "text/plain": [
       "VBox()"
      ]
     },
     "metadata": {},
     "output_type": "display_data"
    },
    {
     "data": {
      "application/vnd.jupyter.widget-view+json": {
       "model_id": "",
       "version_major": 2,
       "version_minor": 0
      },
      "text/plain": [
       "FloatProgress(value=0.0, bar_style='info', description='Progress:', layout=Layout(height='25px', width='50%'),…"
      ]
     },
     "metadata": {},
     "output_type": "display_data"
    },
    {
     "name": "stdout",
     "output_type": "stream",
     "text": [
      "DataFrame[]\n",
      "DataFrame[]"
     ]
    }
   ],
   "source": [
    "for CATEGORY in CATEGORIES:\n",
    "    sql = (\n",
    "        f\"CREATE EXTERNAL TABLE IF NOT EXISTS {CATEGORY}\"\n",
    "        \"(review_id STRING,product_id STRING,product_title STRING,star_rating INT,verified_purchase STRING,review_date DATE)\"\n",
    "        f\"STORED AS PARQUET LOCATION 's3://amazon-reviews-pds/parquet/product_category={CATEGORY}/'\"\n",
    "    )\n",
    "\n",
    "    spark.sql(sql)"
   ]
  },
  {
   "cell_type": "code",
   "execution_count": 3,
   "id": "8a01b0b4",
   "metadata": {},
   "outputs": [
    {
     "data": {
      "application/vnd.jupyter.widget-view+json": {
       "model_id": "532cca3d9cad48158081f2c6c3d7331e",
       "version_major": 2,
       "version_minor": 0
      },
      "text/plain": [
       "VBox()"
      ]
     },
     "metadata": {},
     "output_type": "display_data"
    },
    {
     "data": {
      "application/vnd.jupyter.widget-view+json": {
       "model_id": "",
       "version_major": 2,
       "version_minor": 0
      },
      "text/plain": [
       "FloatProgress(value=0.0, bar_style='info', description='Progress:', layout=Layout(height='25px', width='50%'),…"
      ]
     },
     "metadata": {},
     "output_type": "display_data"
    },
    {
     "name": "stdout",
     "output_type": "stream",
     "text": [
      "+--------+--------------------+-----------+\n",
      "|database|           tableName|isTemporary|\n",
      "+--------+--------------------+-----------+\n",
      "| default|             apparel|      false|\n",
      "| default|                baby|      false|\n",
      "| default|hudi_mor_trips_ta...|      false|\n",
      "| default|hudi_mor_trips_ta...|      false|\n",
      "| default|hudi_partitioned_...|      false|\n",
      "| default|hudi_trips_stream...|      false|\n",
      "| default|    hudi_trips_table|      false|\n",
      "| default|         profile_cow|      false|\n",
      "+--------+--------------------+-----------+"
     ]
    }
   ],
   "source": [
    "spark.sql(\"show tables\").show()"
   ]
  },
  {
   "cell_type": "code",
   "execution_count": 4,
   "id": "18b537f2",
   "metadata": {},
   "outputs": [
    {
     "data": {
      "application/vnd.jupyter.widget-view+json": {
       "model_id": "ca0c16f7e8734e9e9e1506c4646dfbb3",
       "version_major": 2,
       "version_minor": 0
      },
      "text/plain": [
       "VBox()"
      ]
     },
     "metadata": {},
     "output_type": "display_data"
    },
    {
     "data": {
      "application/vnd.jupyter.widget-view+json": {
       "model_id": "",
       "version_major": 2,
       "version_minor": 0
      },
      "text/plain": [
       "FloatProgress(value=0.0, bar_style='info', description='Progress:', layout=Layout(height='25px', width='50%'),…"
      ]
     },
     "metadata": {},
     "output_type": "display_data"
    },
    {
     "name": "stdout",
     "output_type": "stream",
     "text": [
      "Saved query result to s3://emr-workshop-197690357257-template/mwaa/query_output//Apparel_2015-08-28_2015-08-30\n",
      "Saved query result to s3://emr-workshop-197690357257-template/mwaa/query_output//Baby_2015-08-28_2015-08-30"
     ]
    }
   ],
   "source": [
    "for CATEGORY in CATEGORIES:\n",
    "    sql = (\n",
    "        f\"SELECT product_title, AVG(star_rating), count(review_id) AS review_count FROM {CATEGORY} \"\n",
    "        f\"WHERE review_date >= '{FROM_DATE}' AND review_date <= '{TO_DATE}' AND verified_purchase='Y' \"\n",
    "        \"GROUP BY product_title \"\n",
    "        \"ORDER BY SUM(star_rating) desc \"\n",
    "        \"limit 20\"\n",
    "    )\n",
    "\n",
    "    df = spark.sql(sql)\n",
    "    output_folder = f\"{OUTPUT_LOCATION}/{CATEGORY}_{FROM_DATE}_{TO_DATE}\"\n",
    "    df.write.csv(output_folder, mode=\"overwrite\")\n",
    "    print(f\"Saved query result to {output_folder}\")"
   ]
  },
  {
   "cell_type": "code",
   "execution_count": null,
   "id": "bd64d9ca",
   "metadata": {},
   "outputs": [],
   "source": []
  }
 ],
 "metadata": {
  "celltoolbar": "Tags",
  "kernelspec": {
   "display_name": "PySpark",
   "language": "",
   "name": "pysparkkernel"
  },
  "language_info": {
   "codemirror_mode": {
    "name": "python",
    "version": 3
   },
   "mimetype": "text/x-python",
   "name": "pyspark",
   "pygments_lexer": "python3"
  }
 },
 "nbformat": 4,
 "nbformat_minor": 5
}
