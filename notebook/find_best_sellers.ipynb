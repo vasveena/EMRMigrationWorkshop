{
 "cells": [
  {
   "cell_type": "code",
   "execution_count": 12,
   "id": "b98d1e10",
   "metadata": {
    "tags": [
     "parameters"
    ]
   },
   "outputs": [
    {
     "data": {
      "application/vnd.jupyter.widget-view+json": {
       "model_id": "4971162fccd54357b20fec5d297a0ff6",
       "version_major": 2,
       "version_minor": 0
      },
      "text/plain": [
       "VBox()"
      ]
     },
     "metadata": {},
     "output_type": "display_data"
    },
    {
     "data": {
      "application/vnd.jupyter.widget-view+json": {
       "model_id": "",
       "version_major": 2,
       "version_minor": 0
      },
      "text/plain": [
       "FloatProgress(value=0.0, bar_style='info', description='Progress:', layout=Layout(height='25px', width='50%'),…"
      ]
     },
     "metadata": {},
     "output_type": "display_data"
    }
   ],
   "source": [
    "# Default parameters\n",
    "CATEGORIES = [\"Apparel\", \"Baby\"]\n",
    "FROM_DATE = \"2015-08-28\"\n",
    "TO_DATE = \"2015-08-30\"\n",
    "OUTPUT_LOCATION = \"s3://vasveena-test-demo/mwaa/query_output/\""
   ]
  },
  {
   "cell_type": "code",
   "execution_count": 13,
   "id": "68ab0c6d",
   "metadata": {},
   "outputs": [
    {
     "data": {
      "application/vnd.jupyter.widget-view+json": {
       "model_id": "bfe60e38c3a743aa966e8324a87a3cda",
       "version_major": 2,
       "version_minor": 0
      },
      "text/plain": [
       "VBox()"
      ]
     },
     "metadata": {},
     "output_type": "display_data"
    },
    {
     "data": {
      "application/vnd.jupyter.widget-view+json": {
       "model_id": "",
       "version_major": 2,
       "version_minor": 0
      },
      "text/plain": [
       "FloatProgress(value=0.0, bar_style='info', description='Progress:', layout=Layout(height='25px', width='50%'),…"
      ]
     },
     "metadata": {},
     "output_type": "display_data"
    },
    {
     "name": "stdout",
     "output_type": "stream",
     "text": [
      "DataFrame[]\n",
      "DataFrame[]"
     ]
    }
   ],
   "source": [
    "for CATEGORY in CATEGORIES:\n",
    "    sql = (\n",
    "        f\"CREATE EXTERNAL TABLE IF NOT EXISTS {CATEGORY}\"\n",
    "        \"(review_id STRING,product_id STRING,product_title STRING,star_rating INT,verified_purchase STRING,review_date DATE)\"\n",
    "        f\"STORED AS PARQUET LOCATION 's3://amazon-reviews-pds/parquet/product_category={CATEGORY}/'\"\n",
    "    )\n",
    "\n",
    "    spark.sql(sql)"
   ]
  },
  {
   "cell_type": "code",
   "execution_count": 14,
   "id": "8a01b0b4",
   "metadata": {},
   "outputs": [
    {
     "data": {
      "application/vnd.jupyter.widget-view+json": {
       "model_id": "43719f298963410da9c2c9e7128dd6da",
       "version_major": 2,
       "version_minor": 0
      },
      "text/plain": [
       "VBox()"
      ]
     },
     "metadata": {},
     "output_type": "display_data"
    },
    {
     "data": {
      "application/vnd.jupyter.widget-view+json": {
       "model_id": "",
       "version_major": 2,
       "version_minor": 0
      },
      "text/plain": [
       "FloatProgress(value=0.0, bar_style='info', description='Progress:', layout=Layout(height='25px', width='50%'),…"
      ]
     },
     "metadata": {},
     "output_type": "display_data"
    },
    {
     "name": "stdout",
     "output_type": "stream",
     "text": [
      "+--------+---------+-----------+\n",
      "|database|tableName|isTemporary|\n",
      "+--------+---------+-----------+\n",
      "| default|  apparel|      false|\n",
      "| default|     baby|      false|\n",
      "+--------+---------+-----------+"
     ]
    }
   ],
   "source": [
    "spark.sql(\"show tables\").show()"
   ]
  },
  {
   "cell_type": "code",
   "execution_count": 16,
   "id": "18b537f2",
   "metadata": {},
   "outputs": [
    {
     "data": {
      "application/vnd.jupyter.widget-view+json": {
       "model_id": "7e551d2d174d410ab3c27436a5f367b8",
       "version_major": 2,
       "version_minor": 0
      },
      "text/plain": [
       "VBox()"
      ]
     },
     "metadata": {},
     "output_type": "display_data"
    },
    {
     "data": {
      "application/vnd.jupyter.widget-view+json": {
       "model_id": "",
       "version_major": 2,
       "version_minor": 0
      },
      "text/plain": [
       "FloatProgress(value=0.0, bar_style='info', description='Progress:', layout=Layout(height='25px', width='50%'),…"
      ]
     },
     "metadata": {},
     "output_type": "display_data"
    },
    {
     "name": "stdout",
     "output_type": "stream",
     "text": [
      "Saved query result to s3://vasveena-test-demo/mwaa/query_output//Apparel_2015-08-28_2015-08-30\n",
      "Saved query result to s3://vasveena-test-demo/mwaa/query_output//Baby_2015-08-28_2015-08-30"
     ]
    }
   ],
   "source": [
    "for CATEGORY in CATEGORIES:\n",
    "    sql = (\n",
    "        f\"SELECT product_title, AVG(star_rating), count(review_id) AS review_count FROM {CATEGORY} \"\n",
    "        f\"WHERE review_date >= '{FROM_DATE}' AND review_date <= '{TO_DATE}' AND verified_purchase='Y' \"\n",
    "        \"GROUP BY product_title \"\n",
    "        \"ORDER BY SUM(star_rating) desc \"\n",
    "        \"limit 20\"\n",
    "    )\n",
    "\n",
    "    df = spark.sql(sql)\n",
    "    output_folder = f\"{OUTPUT_LOCATION}/{CATEGORY}_{FROM_DATE}_{TO_DATE}\"\n",
    "    df.write.csv(output_folder, mode=\"overwrite\")\n",
    "    print(f\"Saved query result to {output_folder}\")"
   ]
  },
  {
   "cell_type": "code",
   "execution_count": null,
   "id": "bd64d9ca",
   "metadata": {},
   "outputs": [],
   "source": []
  }
 ],
 "metadata": {
  "celltoolbar": "Tags",
  "kernelspec": {
   "display_name": "PySpark",
   "language": "",
   "name": "pysparkkernel"
  },
  "language_info": {
   "codemirror_mode": {
    "name": "python",
    "version": 3
   },
   "mimetype": "text/x-python",
   "name": "pyspark",
   "pygments_lexer": "python3"
  }
 },
 "nbformat": 4,
 "nbformat_minor": 5
}
